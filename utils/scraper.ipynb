{
 "cells": [
  {
   "cell_type": "code",
   "execution_count": 1,
   "metadata": {},
   "outputs": [],
   "source": [
    "from pinscrape import pinscrape"
   ]
  },
  {
   "cell_type": "code",
   "execution_count": null,
   "metadata": {},
   "outputs": [],
   "source": [
    "animals = [\"cow\", \"dog\", \"butterfly\", \"cat\", \"chicken\", \"elephant\", \"horse\", \"sheep\", \"spider\", \"squirrel\"]\n",
    "\n",
    "for animal in animals: \n",
    "    print(\"Downloading \" + animal)\n",
    "\n",
    "    # to have checkpoints\n",
    "    count = 0\n",
    "    details = pinscrape.scraper.scrape(animal, animal, {}, 10, 1000)\n",
    "    count += 1\n",
    "    print(\"Checkpoint: \" + str(count))\n",
    "    details = pinscrape.scraper.scrape(animal + \" tattoo\", animal, {}, 10, 1000)\n",
    "    count += 1\n",
    "    print(\"Checkpoint: \" + str(count))\n",
    "    details = pinscrape.scraper.scrape(animal + \" drawing\", animal, {}, 10, 1000)\n",
    "    count += 1\n",
    "    print(\"Checkpoint: \" + str(count))\n",
    "    details = pinscrape.scraper.scrape(animal + \" cartoon\", animal, {}, 10, 1000)\n",
    "    count += 1\n",
    "    print(\"Checkpoint: \" + str(count))\n",
    "    details = pinscrape.scraper.scrape(animal + \" sketch\", animal, {}, 10, 1000)\n",
    "    count += 1\n",
    "    print(\"Checkpoint: \" + str(count))\n",
    "    details = pinscrape.scraper.scrape(animal + \" black and white\", animal, {}, 10, 1000)\n",
    "    count += 1\n",
    "    print(\"Checkpoint: \" + str(count))\n",
    "    details = pinscrape.scraper.scrape(animal + \" to color\", animal, {}, 10, 1000)\n",
    "    count += 1\n",
    "    print(\"Checkpoint: \" + str(count))\n",
    "    details = pinscrape.scraper.scrape(animal + \" baby\", animal, {}, 10, 1000)\n",
    "    count += 1\n",
    "    print(\"Checkpoint: \" + str(count))\n",
    "    details = pinscrape.scraper.scrape(animal + \" paintings\", animal, {}, 10, 1000)\n",
    "    count += 1\n",
    "    print(\"Checkpoint: \" + str(count))\n",
    "    details = pinscrape.scraper.scrape(animal + \" stylized\", animal, {}, 10, 1000)\n",
    "    count += 1\n",
    "    print(\"Checkpoint: \" + str(count))\n",
    "    details = pinscrape.scraper.scrape(animal + \" caricature\", animal, {}, 10, 1000)\n",
    "    count += 1\n",
    "    print(\"Checkpoint: \" + str(count))\n",
    "    details = pinscrape.scraper.scrape(animal + \" realistic\", animal, {}, 10, 1000)\n",
    "    count += 1\n",
    "    print(\"Checkpoint: \" + str(count))\n",
    "    details = pinscrape.scraper.scrape(animal + \" minimalist\", animal, {}, 10, 1000)\n",
    "    count += 1\n",
    "    print(\"Checkpoint: \" + str(count))\n",
    "    details = pinscrape.scraper.scrape(animal + \" abstract\", animal, {}, 10, 1000)\n",
    "    count += 1\n",
    "    print(\"Checkpoint: \" + str(count))\n",
    "    details = pinscrape.scraper.scrape(animal + \" watercolor\", animal, {}, 10, 1000)\n",
    "    count += 1\n",
    "    print(\"Checkpoint: \" + str(count))\n",
    "    details = pinscrape.scraper.scrape(animal + \" digital art\", animal, {}, 10, 1000)\n",
    "    count += 1\n",
    "    print(\"Checkpoint: \" + str(count))\n",
    "    details = pinscrape.scraper.scrape(animal + \" fantasy\", animal, {}, 10, 1000)\n",
    "    count += 1\n",
    "    print(\"Checkpoint: \" + str(count))\n",
    "    details = pinscrape.scraper.scrape(animal + \" photography\", animal, {}, 10, 1000)\n",
    "    count += 1\n",
    "    print(\"Checkpoint: \" + str(count))\n",
    "    details = pinscrape.scraper.scrape(animal + \" vintage\", animal, {}, 10, 1000)\n",
    "    count += 1\n",
    "    print(\"Checkpoint: \" + str(count))\n",
    "    details = pinscrape.scraper.scrape(animal + \" pop art\", animal, {}, 10, 1000)\n",
    "    count += 1\n",
    "    print(\"Checkpoint: \" + str(count))"
   ]
  }
 ],
 "metadata": {
  "kernelspec": {
   "display_name": "Python 3 (ipykernel)",
   "language": "python",
   "name": "python3"
  },
  "language_info": {
   "codemirror_mode": {
    "name": "ipython",
    "version": 3
   },
   "file_extension": ".py",
   "mimetype": "text/x-python",
   "name": "python",
   "nbconvert_exporter": "python",
   "pygments_lexer": "ipython3",
   "version": "3.9.18"
  }
 },
 "nbformat": 4,
 "nbformat_minor": 4
}
